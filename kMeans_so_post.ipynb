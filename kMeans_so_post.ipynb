{
 "cells": [
  {
   "cell_type": "code",
   "execution_count": 1,
   "id": "057f309c",
   "metadata": {},
   "outputs": [],
   "source": [
    "#so https://stackoverflow.com/questions/75010474/kmeans-clustering-getting-malloc-error"
   ]
  },
  {
   "cell_type": "code",
   "execution_count": 4,
   "id": "ddf7fc20",
   "metadata": {},
   "outputs": [
    {
     "data": {
      "image/png": "[encoded data removed]",
      "text/plain": [
       "<Figure size 432x288 with 1 Axes>"
      ]
     },
     "metadata": {
      "needs_background": "light"
     },
     "output_type": "display_data"
    },
    {
     "name": "stdout",
     "output_type": "stream",
     "text": [
      "[1 1 1 ... 0 0 0]\n",
      "Elapsed time: 0.9059125340000946\n"
     ]
    }
   ],
   "source": [
    "import numpy as np\n",
    "import pandas as pd \n",
    "import matplotlib.pyplot as plt\n",
    "from sklearn.cluster import KMeans\n",
    "\n",
    "from time import perf_counter\n",
    "t1_start = perf_counter()\n",
    "df = pd.read_csv('data/final_dataset.csv')\n",
    "\n",
    "\n",
    "df = df[df['Episode_Count'].notna()]\n",
    "\n",
    "\n",
    "#create X coords \n",
    "X = df[['BMI','Episode_Count']].values\n",
    "\n",
    "plt.scatter(X[:,0],X[:,1])\n",
    "plt.show() \n",
    "\n",
    "#train model \n",
    "k = 5\n",
    "kmeans = KMeans(n_clusters=k, random_state=42)\n",
    "y_pred = kmeans.fit_predict(X)\n",
    "print(y_pred)\n",
    "t1_complete = perf_counter()\n",
    "print(\"Elapsed time:\", t1_complete - t1_start)"
   ]
  },
  {
   "cell_type": "code",
   "execution_count": null,
   "id": "cfdb502a",
   "metadata": {},
   "outputs": [],
   "source": []
  }
 ],
 "metadata": {
  "kernelspec": {
   "display_name": "Python 3 (ipykernel)",
   "language": "python",
   "name": "python3"
  },
  "language_info": {
   "codemirror_mode": {
    "name": "ipython",
    "version": 3
   },
   "file_extension": ".py",
   "mimetype": "text/x-python",
   "name": "python",
   "nbconvert_exporter": "python",
   "pygments_lexer": "ipython3",
   "version": "3.8.3"
  }
 },
 "nbformat": 4,
 "nbformat_minor": 5
}
