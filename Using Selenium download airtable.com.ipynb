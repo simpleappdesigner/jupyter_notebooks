{
 "cells": [
  {
   "cell_type": "markdown",
   "id": "f9c30a4a",
   "metadata": {},
   "source": [
    "<div class=\"alert alert-block alert-success\">\n",
    "    Usecase:<br>\n",
    "        1. To download a table from airtable\n",
    "</div>\n",
    "\n",
    "\n",
    "<img src=\"airtable_demo.png\" width=800 height=500 />\n",
    "\n",
    "## Alternative to https://github.com/banditelol/airscraper, to download airtable"
   ]
  },
  {
   "cell_type": "code",
   "execution_count": 1,
   "id": "7e56d67d",
   "metadata": {},
   "outputs": [],
   "source": [
    "url=\"https://airtable.com/shr0T0vmiTN3BCzFY/tblL2KJODakGg05ui\""
   ]
  },
  {
   "cell_type": "code",
   "execution_count": 2,
   "id": "646ac54c",
   "metadata": {},
   "outputs": [],
   "source": [
    "import pandas as pd"
   ]
  },
  {
   "cell_type": "code",
   "execution_count": 3,
   "id": "a1c5cf3f",
   "metadata": {},
   "outputs": [
    {
     "name": "stderr",
     "output_type": "stream",
     "text": [
      "/var/folders/sn/v3vk2yls5qz491jsphnk8v_m0000gn/T/ipykernel_1402/2608930026.py:9: DeprecationWarning: executable_path has been deprecated, please pass in a Service object\n",
      "  driver = webdriver.Chrome(\"./chromedriver\")\n"
     ]
    }
   ],
   "source": [
    "from selenium import webdriver\n",
    "from selenium.webdriver.common.keys import Keys\n",
    "\n",
    "from selenium import webdriver\n",
    "from selenium.webdriver.common.by import By\n",
    "from selenium.webdriver.support.ui import WebDriverWait\n",
    "from selenium.webdriver.support import expected_conditions as EC\n",
    "\n",
    "driver = webdriver.Chrome(\"./chromedriver\")"
   ]
  },
  {
   "cell_type": "code",
   "execution_count": 4,
   "id": "e7ef6e58",
   "metadata": {},
   "outputs": [],
   "source": [
    "driver.get(url)\n",
    "driver.maximize_window()"
   ]
  },
  {
   "cell_type": "code",
   "execution_count": 5,
   "id": "27c31e80",
   "metadata": {},
   "outputs": [],
   "source": [
    "elment_xpath=\"//*/svg/path\""
   ]
  },
  {
   "cell_type": "code",
   "execution_count": 6,
   "id": "00d27c2f",
   "metadata": {},
   "outputs": [],
   "source": [
    "setting_dot=driver.find_element(By.CSS_SELECTOR, 'div[data-tutorial-selector-id=viewMenuButton')"
   ]
  },
  {
   "cell_type": "code",
   "execution_count": 7,
   "id": "4af81f7b",
   "metadata": {},
   "outputs": [],
   "source": [
    "setting_dot.click()"
   ]
  },
  {
   "cell_type": "code",
   "execution_count": 9,
   "id": "8088d1b8",
   "metadata": {},
   "outputs": [],
   "source": [
    "#buttons = driver.find_elements_by_xpath(\"//*[contains(text(), 'Download CSV')]\")\n",
    "buttons=driver.find_elements(by=By.XPATH, value=\"//*[contains(text(), 'Download CSV')]\")"
   ]
  },
  {
   "cell_type": "code",
   "execution_count": 10,
   "id": "5e35bf71",
   "metadata": {},
   "outputs": [],
   "source": [
    "buttons[0].click()"
   ]
  },
  {
   "cell_type": "code",
   "execution_count": null,
   "id": "48bcd7b7",
   "metadata": {},
   "outputs": [],
   "source": [
    "![title](airtable_demo.png)"
   ]
  }
 ],
 "metadata": {
  "kernelspec": {
   "display_name": "Python 3 (ipykernel)",
   "language": "python",
   "name": "python3"
  },
  "language_info": {
   "codemirror_mode": {
    "name": "ipython",
    "version": 3
   },
   "file_extension": ".py",
   "mimetype": "text/x-python",
   "name": "python",
   "nbconvert_exporter": "python",
   "pygments_lexer": "ipython3",
   "version": "3.8.3"
  }
 },
 "nbformat": 4,
 "nbformat_minor": 5
}
