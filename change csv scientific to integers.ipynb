{
 "cells": [
  {
   "cell_type": "markdown",
   "id": "94535b7e",
   "metadata": {},
   "source": [
    "<div class=\"alert alert-block alert-success\">\n",
    "    Usecase:<br>\n",
    "        1. data clean on particular columns - here remove Scientific notation(mainly E+)\n",
    " which came in CSV from database select query.\n",
    "</div>"
   ]
  },
  {
   "cell_type": "code",
   "execution_count": 1,
   "id": "feef3e60",
   "metadata": {},
   "outputs": [
    {
     "data": {
      "text/plain": [
       "<module 'pandas' from '/opt/anaconda3/lib/python3.8/site-packages/pandas/__init__.py'>"
      ]
     },
     "execution_count": 1,
     "metadata": {},
     "output_type": "execute_result"
    }
   ],
   "source": [
    "import pandas as pd\n",
    "pd"
   ]
  },
  {
   "cell_type": "code",
   "execution_count": 5,
   "id": "1c7bfc04",
   "metadata": {},
   "outputs": [
    {
     "data": {
      "text/plain": [
       "'1.5.1'"
      ]
     },
     "execution_count": 5,
     "metadata": {},
     "output_type": "execute_result"
    }
   ],
   "source": [
    "pd.__version__"
   ]
  },
  {
   "cell_type": "code",
   "execution_count": 6,
   "id": "70bb9002",
   "metadata": {},
   "outputs": [],
   "source": [
    "#!pip install --upgrade pandas"
   ]
  },
  {
   "cell_type": "code",
   "execution_count": 7,
   "id": "c735d832",
   "metadata": {},
   "outputs": [],
   "source": [
    "df = pd.read_csv(r'/Users/xxxx/Downloads/Active invnentory import_update - Copy.csv',encoding = \"ISO-8859-1\")\n"
   ]
  },
  {
   "cell_type": "code",
   "execution_count": 8,
   "id": "2c1f2630",
   "metadata": {},
   "outputs": [],
   "source": [
    "def change_e_to_number(value_str):\n",
    "    try:\n",
    "        return int(float(value_str))\n",
    "    except:\n",
    "        return value_str"
   ]
  },
  {
   "cell_type": "code",
   "execution_count": 9,
   "id": "4a919e7c",
   "metadata": {},
   "outputs": [],
   "source": [
    "df['PartNumber_Changed']    = df['PartNumber'].apply(change_e_to_number)\n",
    "df['ProductNumber_Changed'] = df['ProductNumber'].apply(change_e_to_number)"
   ]
  },
  {
   "cell_type": "code",
   "execution_count": 17,
   "id": "5049ed0d",
   "metadata": {},
   "outputs": [
    {
     "data": {
      "text/html": [
       "<div>\n",
       "<style scoped>\n",
       "    .dataframe tbody tr th:only-of-type {\n",
       "        vertical-align: middle;\n",
       "    }\n",
       "\n",
       "    .dataframe tbody tr th {\n",
       "        vertical-align: top;\n",
       "    }\n",
       "\n",
       "    .dataframe thead th {\n",
       "        text-align: right;\n",
       "    }\n",
       "</style>\n",
       "<table border=\"1\" class=\"dataframe\">\n",
       "  <thead>\n",
       "    <tr style=\"text-align: right;\">\n",
       "      <th></th>\n",
       "      <th>PartNumber</th>\n",
       "      <th>PartNumber_Changed</th>\n",
       "      <th>ProductNumber</th>\n",
       "      <th>ProductNumber_Changed</th>\n",
       "    </tr>\n",
       "  </thead>\n",
       "  <tbody>\n",
       "    <tr>\n",
       "      <th>20</th>\n",
       "      <td>test-1</td>\n",
       "      <td>test-1</td>\n",
       "      <td>NaN</td>\n",
       "      <td>NaN</td>\n",
       "    </tr>\n",
       "    <tr>\n",
       "      <th>21</th>\n",
       "      <td>203100000064</td>\n",
       "      <td>203100000064</td>\n",
       "      <td>2.031E+11</td>\n",
       "      <td>203100000000</td>\n",
       "    </tr>\n",
       "    <tr>\n",
       "      <th>22</th>\n",
       "      <td>203100000064</td>\n",
       "      <td>203100000064</td>\n",
       "      <td>2.031E+11</td>\n",
       "      <td>203100000000</td>\n",
       "    </tr>\n",
       "    <tr>\n",
       "      <th>23</th>\n",
       "      <td>203100000064</td>\n",
       "      <td>203100000064</td>\n",
       "      <td>2.031E+11</td>\n",
       "      <td>203100000000</td>\n",
       "    </tr>\n",
       "    <tr>\n",
       "      <th>35</th>\n",
       "      <td>101011050001</td>\n",
       "      <td>101011050001</td>\n",
       "      <td>101011050001B</td>\n",
       "      <td>101011050001B</td>\n",
       "    </tr>\n",
       "    <tr>\n",
       "      <th>42</th>\n",
       "      <td>101012010022</td>\n",
       "      <td>101012010022</td>\n",
       "      <td>1.01012E+11</td>\n",
       "      <td>101012000000</td>\n",
       "    </tr>\n",
       "    <tr>\n",
       "      <th>44</th>\n",
       "      <td>101012010023</td>\n",
       "      <td>101012010023</td>\n",
       "      <td>1.01012E+11</td>\n",
       "      <td>101012000000</td>\n",
       "    </tr>\n",
       "    <tr>\n",
       "      <th>47</th>\n",
       "      <td>101012010035</td>\n",
       "      <td>101012010035</td>\n",
       "      <td>1.01012E+11</td>\n",
       "      <td>101012000000</td>\n",
       "    </tr>\n",
       "    <tr>\n",
       "      <th>58</th>\n",
       "      <td>101012010051</td>\n",
       "      <td>101012010051</td>\n",
       "      <td>1.01012E+11</td>\n",
       "      <td>101012000000</td>\n",
       "    </tr>\n",
       "    <tr>\n",
       "      <th>60</th>\n",
       "      <td>101012010052</td>\n",
       "      <td>101012010052</td>\n",
       "      <td>1.01012E+11</td>\n",
       "      <td>101012000000</td>\n",
       "    </tr>\n",
       "  </tbody>\n",
       "</table>\n",
       "</div>"
      ],
      "text/plain": [
       "      PartNumber PartNumber_Changed  ProductNumber ProductNumber_Changed\n",
       "20        test-1             test-1            NaN                   NaN\n",
       "21  203100000064       203100000064      2.031E+11          203100000000\n",
       "22  203100000064       203100000064      2.031E+11          203100000000\n",
       "23  203100000064       203100000064      2.031E+11          203100000000\n",
       "35  101011050001       101011050001  101011050001B         101011050001B\n",
       "42  101012010022       101012010022    1.01012E+11          101012000000\n",
       "44  101012010023       101012010023    1.01012E+11          101012000000\n",
       "47  101012010035       101012010035    1.01012E+11          101012000000\n",
       "58  101012010051       101012010051    1.01012E+11          101012000000\n",
       "60  101012010052       101012010052    1.01012E+11          101012000000"
      ]
     },
     "execution_count": 17,
     "metadata": {},
     "output_type": "execute_result"
    }
   ],
   "source": [
    "df_chg = df[[\"PartNumber\", \"PartNumber_Changed\",\"ProductNumber\",\"ProductNumber_Changed\"]]\n",
    "df_chg.query('(PartNumber != PartNumber_Changed) | (ProductNumber != ProductNumber_Changed ) ').head(10)"
   ]
  },
  {
   "cell_type": "code",
   "execution_count": 38,
   "id": "87889796",
   "metadata": {},
   "outputs": [
    {
     "data": {
      "text/html": [
       "<div>\n",
       "<style scoped>\n",
       "    .dataframe tbody tr th:only-of-type {\n",
       "        vertical-align: middle;\n",
       "    }\n",
       "\n",
       "    .dataframe tbody tr th {\n",
       "        vertical-align: top;\n",
       "    }\n",
       "\n",
       "    .dataframe thead th {\n",
       "        text-align: right;\n",
       "    }\n",
       "</style>\n",
       "<table border=\"1\" class=\"dataframe\">\n",
       "  <thead>\n",
       "    <tr style=\"text-align: right;\">\n",
       "      <th></th>\n",
       "      <th>PartNumber</th>\n",
       "      <th>PartNumber_Changed</th>\n",
       "      <th>ProductNumber</th>\n",
       "      <th>ProductNumber_Changed</th>\n",
       "    </tr>\n",
       "  </thead>\n",
       "  <tbody>\n",
       "    <tr>\n",
       "      <th>14175</th>\n",
       "      <td>3346E</td>\n",
       "      <td>3346E</td>\n",
       "      <td>3346E</td>\n",
       "      <td>3346E</td>\n",
       "    </tr>\n",
       "    <tr>\n",
       "      <th>14177</th>\n",
       "      <td>4047E</td>\n",
       "      <td>4047E</td>\n",
       "      <td>4047E</td>\n",
       "      <td>4047E</td>\n",
       "    </tr>\n",
       "    <tr>\n",
       "      <th>14178</th>\n",
       "      <td>4047E (CA)</td>\n",
       "      <td>4047E (CA)</td>\n",
       "      <td>4047E (CA)</td>\n",
       "      <td>4047E (CA)</td>\n",
       "    </tr>\n",
       "    <tr>\n",
       "      <th>14179</th>\n",
       "      <td>4655EP</td>\n",
       "      <td>4655EP</td>\n",
       "      <td>4655EP</td>\n",
       "      <td>4655EP</td>\n",
       "    </tr>\n",
       "    <tr>\n",
       "      <th>14180</th>\n",
       "      <td>4655EP (CA)</td>\n",
       "      <td>4655EP (CA)</td>\n",
       "      <td>4655EP (CA)</td>\n",
       "      <td>4655EP (CA)</td>\n",
       "    </tr>\n",
       "    <tr>\n",
       "      <th>14184</th>\n",
       "      <td>AB520EJ (CA)</td>\n",
       "      <td>AB520EJ (CA)</td>\n",
       "      <td>AB520EJ (CA)</td>\n",
       "      <td>AB520EJ (CA)</td>\n",
       "    </tr>\n",
       "    <tr>\n",
       "      <th>14196</th>\n",
       "      <td>EV506G-170</td>\n",
       "      <td>EV506G-170</td>\n",
       "      <td>EV506G-170</td>\n",
       "      <td>EV506G-170</td>\n",
       "    </tr>\n",
       "    <tr>\n",
       "      <th>14204</th>\n",
       "      <td>101055060008E</td>\n",
       "      <td>101055060008E</td>\n",
       "      <td>101055060008E</td>\n",
       "      <td>101055060008E</td>\n",
       "    </tr>\n",
       "    <tr>\n",
       "      <th>14220</th>\n",
       "      <td>ML340EJ (CA)</td>\n",
       "      <td>ML340EJ (CA)</td>\n",
       "      <td>ML340EJ (CA)</td>\n",
       "      <td>ML340EJ (CA)</td>\n",
       "    </tr>\n",
       "    <tr>\n",
       "      <th>14250</th>\n",
       "      <td>101016050003E</td>\n",
       "      <td>101016050003E</td>\n",
       "      <td>101016050003E</td>\n",
       "      <td>101016050003E</td>\n",
       "    </tr>\n",
       "  </tbody>\n",
       "</table>\n",
       "</div>"
      ],
      "text/plain": [
       "          PartNumber PartNumber_Changed  ProductNumber ProductNumber_Changed\n",
       "14175          3346E              3346E          3346E                 3346E\n",
       "14177          4047E              4047E          4047E                 4047E\n",
       "14178     4047E (CA)         4047E (CA)     4047E (CA)            4047E (CA)\n",
       "14179         4655EP             4655EP         4655EP                4655EP\n",
       "14180    4655EP (CA)        4655EP (CA)    4655EP (CA)           4655EP (CA)\n",
       "14184   AB520EJ (CA)       AB520EJ (CA)   AB520EJ (CA)          AB520EJ (CA)\n",
       "14196     EV506G-170         EV506G-170     EV506G-170            EV506G-170\n",
       "14204  101055060008E      101055060008E  101055060008E         101055060008E\n",
       "14220   ML340EJ (CA)       ML340EJ (CA)   ML340EJ (CA)          ML340EJ (CA)\n",
       "14250  101016050003E      101016050003E  101016050003E         101016050003E"
      ]
     },
     "execution_count": 38,
     "metadata": {},
     "output_type": "execute_result"
    }
   ],
   "source": [
    "\n",
    "df_chg[df_chg['PartNumber'].str.contains(\"E\")].tail(10)"
   ]
  },
  {
   "cell_type": "code",
   "execution_count": 39,
   "id": "a12c6338",
   "metadata": {},
   "outputs": [],
   "source": [
    "df.to_csv(r'/Users/xxxx/Downloads/Active invnentory import_updated - Copy.csv',encoding = \"ISO-8859-1\")"
   ]
  }
 ],
 "metadata": {
  "kernelspec": {
   "display_name": "sparkenv1.0",
   "language": "python",
   "name": "sparkenv1.0"
  },
  "language_info": {
   "codemirror_mode": {
    "name": "ipython",
    "version": 3
   },
   "file_extension": ".py",
   "mimetype": "text/x-python",
   "name": "python",
   "nbconvert_exporter": "python",
   "pygments_lexer": "ipython3",
   "version": "3.8.3"
  }
 },
 "nbformat": 4,
 "nbformat_minor": 5
}
